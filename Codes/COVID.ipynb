{
  "nbformat": 4,
  "nbformat_minor": 0,
  "metadata": {
    "colab": {
      "provenance": []
    },
    "kernelspec": {
      "name": "python3",
      "display_name": "Python 3"
    },
    "language_info": {
      "name": "python"
    }
  },
  "cells": [
    {
      "cell_type": "code",
      "execution_count": null,
      "metadata": {
        "id": "1WErbk8kC_Bq"
      },
      "outputs": [],
      "source": [
        "import keras\n",
        "import tensorflow\n",
        "from keras.models import Sequential\n",
        "from keras.layers import Dense, Dropout, Flatten\n",
        "from keras.layers import Conv2D, MaxPooling2D\n",
        "import matplotlib.pyplot as plt\n",
        "import os\n",
        "import pandas as pd\n",
        "import numpy as np\n",
        "import cv2\n",
        "from tqdm import tqdm"
      ]
    },
    {
      "cell_type": "code",
      "source": [
        "from google.colab import drive\n",
        "drive.mount('/content/drive')"
      ],
      "metadata": {
        "id": "nbRSbjjaFO4t",
        "colab": {
          "base_uri": "https://localhost:8080/"
        },
        "outputId": "5b1af5f5-4802-4c20-df2a-b0887bf826a6"
      },
      "execution_count": null,
      "outputs": [
        {
          "output_type": "stream",
          "name": "stdout",
          "text": [
            "Drive already mounted at /content/drive; to attempt to forcibly remount, call drive.mount(\"/content/drive\", force_remount=True).\n"
          ]
        }
      ]
    },
    {
      "cell_type": "code",
      "source": [
        "class_type = ['COVID','non-COVID']\n",
        "data_dir = '/content/drive/MyDrive/Colab Notebooks/data_covid/data'\n",
        "train_dir = os.path.join(data_dir)"
      ],
      "metadata": {
        "id": "YQb4cqFSDYUn"
      },
      "execution_count": null,
      "outputs": []
    },
    {
      "cell_type": "code",
      "source": [
        "train_data = []\n",
        "for defects_id, sp in enumerate(class_type):\n",
        "    print(defects_id, sp)\n",
        "    for file in os.listdir(os.path.join(train_dir, sp)):\n",
        "      train_data.append(['{}/{}'.format(sp,file),defects_id, sp])\n",
        "\n",
        "print(train_data)\n",
        "train = pd. DataFrame(train_data, columns = ['File', 'DiseaseID', 'Disease Type'])\n",
        "print(train)\n",
        "SEED = 42\n",
        "train = train.sample(frac=1, random_state = SEED)\n",
        "train_index = np.arange(len(train))\n",
        "print(train)\n",
        "print(train_index)"
      ],
      "metadata": {
        "id": "xea31NwXEkd5"
      },
      "execution_count": null,
      "outputs": []
    },
    {
      "cell_type": "code",
      "source": [
        "IMAGE_SIZE = 128\n",
        "\n",
        "def read_image(filepath):\n",
        "  return cv2.imread(os.path.join(data_dir,filepath))\n",
        "\n",
        "def resize_image(image, image_size):\n",
        "  return cv2.resize(image.copy(), image_size, interpolation=cv2.INTER_AREA)"
      ],
      "metadata": {
        "id": "j_0pMZhzHnuu"
      },
      "execution_count": null,
      "outputs": []
    },
    {
      "cell_type": "code",
      "source": [
        "X_train = np.zeros((train.shape[0], IMAGE_SIZE, IMAGE_SIZE,3))\n",
        "for i, file in tqdm(enumerate(train['File'].values)):\n",
        "  image = read_image(file)\n",
        "  if image is not None:\n",
        "    X_train[i] = resize_image(image, (IMAGE_SIZE, IMAGE_SIZE))\n",
        "\n",
        "X_train = X_train / 255.\n",
        "print(X_train.shape)"
      ],
      "metadata": {
        "id": "4OpsomG3KZHr",
        "colab": {
          "base_uri": "https://localhost:8080/"
        },
        "outputId": "9543c5c8-0f0a-4f57-aab6-6633acf2e63b"
      },
      "execution_count": null,
      "outputs": [
        {
          "output_type": "stream",
          "name": "stderr",
          "text": [
            "200it [00:58,  3.44it/s]"
          ]
        },
        {
          "output_type": "stream",
          "name": "stdout",
          "text": [
            "(200, 128, 128, 3)\n"
          ]
        },
        {
          "output_type": "stream",
          "name": "stderr",
          "text": [
            "\n"
          ]
        }
      ]
    },
    {
      "cell_type": "code",
      "source": [
        "type(X_train)"
      ],
      "metadata": {
        "id": "FqV_gF4WtpiO"
      },
      "execution_count": null,
      "outputs": []
    },
    {
      "cell_type": "code",
      "source": [
        "num_classes = 2\n",
        "y_train = []\n",
        "for title in train['Disease Type']:\n",
        "  if title == 'COVID':\n",
        "    y_train.append(1)\n",
        "  else:\n",
        "    y_train.append(0)\n",
        "\n",
        "y_train = np.array(y_train)\n",
        "#pd.DataFrame(y_train)"
      ],
      "metadata": {
        "id": "WBCqbHQzpLI6"
      },
      "execution_count": null,
      "outputs": []
    },
    {
      "cell_type": "code",
      "source": [
        "from sklearn.model_selection import train_test_split\n",
        "x_train, x_test, y_train, y_test = train_test_split(X_train, y_train, test_size=0.2, train_size=None, random_state=42, shuffle=False, stratify=None)\n",
        "x_train"
      ],
      "metadata": {
        "id": "WPn_kAAQK4qR"
      },
      "execution_count": null,
      "outputs": []
    },
    {
      "cell_type": "code",
      "source": [
        "y_train = tensorflow.keras.utils.to_categorical(y_train, num_classes)\n",
        "y_test = tensorflow.keras.utils.to_categorical(y_test, num_classes)"
      ],
      "metadata": {
        "id": "JCfyAOj_uvZ6"
      },
      "execution_count": null,
      "outputs": []
    },
    {
      "cell_type": "code",
      "source": [
        "y_train.shape"
      ],
      "metadata": {
        "id": "PTlc0tVup8GS",
        "colab": {
          "base_uri": "https://localhost:8080/"
        },
        "outputId": "ed8b1d7e-474c-4816-9d6c-66749b5c8973"
      },
      "execution_count": null,
      "outputs": [
        {
          "output_type": "execute_result",
          "data": {
            "text/plain": [
              "(160, 2)"
            ]
          },
          "metadata": {},
          "execution_count": 10
        }
      ]
    },
    {
      "cell_type": "code",
      "source": [
        "y_train"
      ],
      "metadata": {
        "id": "40I3g51XvLuJ"
      },
      "execution_count": null,
      "outputs": []
    },
    {
      "cell_type": "code",
      "source": [
        "input_shape = (IMAGE_SIZE,IMAGE_SIZE,3)\n",
        "batch_size = 16\n",
        "num_classes = 2\n",
        "epochs = 10"
      ],
      "metadata": {
        "id": "j8cCpRBIqErm"
      },
      "execution_count": null,
      "outputs": []
    },
    {
      "cell_type": "code",
      "source": [
        "model = Sequential()\n",
        "model.add(Conv2D(32, kernel_size=(3, 3),\n",
        "                 activation='relu',\n",
        "                 input_shape=input_shape))\n",
        "model.add(Conv2D(64, (3, 3), activation='relu'))\n",
        "model.add(MaxPooling2D(pool_size=(2, 2)))\n",
        "model.add(Conv2D(64, (3, 3), activation='relu'))\n",
        "model.add(MaxPooling2D(pool_size=(2, 2)))\n",
        "model.add(Flatten())\n",
        "model.add(Dense(256, activation='relu'))\n",
        "model.add(Dropout(0.2))\n",
        "model.add(Dense(num_classes, activation='softmax'))\n",
        "\n",
        "model.compile(loss = keras.losses.categorical_crossentropy,\n",
        "             optimizer = tensorflow.keras.optimizers.Adam(learning_rate=0.01),\n",
        "             metrics = ['accuracy'])\n",
        "\n",
        "model.fit(x_train, y_train,\n",
        "          batch_size=batch_size,\n",
        "          epochs=epochs,\n",
        "          verbose=1,\n",
        "          validation_data=(x_test, y_test))\n",
        "\n",
        "\n",
        "score = model.evaluate(x_test, y_test, verbose=0)\n",
        "print('Test Loss:', score[0])\n",
        "print('Test Accuracy:', score[1])"
      ],
      "metadata": {
        "id": "bbpi_gXSp9Bj",
        "colab": {
          "base_uri": "https://localhost:8080/"
        },
        "outputId": "d97170b4-03ff-45d7-cf90-ff608822f5ae"
      },
      "execution_count": null,
      "outputs": [
        {
          "output_type": "stream",
          "name": "stdout",
          "text": [
            "Epoch 1/10\n",
            "10/10 [==============================] - 19s 2s/step - loss: 25.7016 - accuracy: 0.4875 - val_loss: 0.7754 - val_accuracy: 0.4500\n",
            "Epoch 2/10\n",
            "10/10 [==============================] - 18s 2s/step - loss: 0.7230 - accuracy: 0.4437 - val_loss: 0.6920 - val_accuracy: 0.5500\n",
            "Epoch 3/10\n",
            "10/10 [==============================] - 17s 2s/step - loss: 0.6937 - accuracy: 0.4875 - val_loss: 0.6927 - val_accuracy: 0.5500\n",
            "Epoch 4/10\n",
            "10/10 [==============================] - 16s 2s/step - loss: 0.6939 - accuracy: 0.4875 - val_loss: 0.6923 - val_accuracy: 0.5500\n",
            "Epoch 5/10\n",
            "10/10 [==============================] - 17s 2s/step - loss: 0.6930 - accuracy: 0.4875 - val_loss: 0.6929 - val_accuracy: 0.5500\n",
            "Epoch 6/10\n",
            "10/10 [==============================] - 25s 2s/step - loss: 0.6928 - accuracy: 0.5312 - val_loss: 0.6950 - val_accuracy: 0.4500\n",
            "Epoch 7/10\n",
            "10/10 [==============================] - 19s 2s/step - loss: 0.6930 - accuracy: 0.5125 - val_loss: 0.6964 - val_accuracy: 0.4500\n",
            "Epoch 8/10\n",
            "10/10 [==============================] - 18s 2s/step - loss: 0.6938 - accuracy: 0.5125 - val_loss: 0.6952 - val_accuracy: 0.4500\n",
            "Epoch 9/10\n",
            "10/10 [==============================] - 17s 2s/step - loss: 0.6927 - accuracy: 0.5125 - val_loss: 0.6960 - val_accuracy: 0.4500\n",
            "Epoch 10/10\n",
            "10/10 [==============================] - 17s 2s/step - loss: 0.6929 - accuracy: 0.5125 - val_loss: 0.6957 - val_accuracy: 0.4500\n",
            "Test Loss: 0.6957399249076843\n",
            "Test Accuracy: 0.44999998807907104\n"
          ]
        }
      ]
    }
  ]
}